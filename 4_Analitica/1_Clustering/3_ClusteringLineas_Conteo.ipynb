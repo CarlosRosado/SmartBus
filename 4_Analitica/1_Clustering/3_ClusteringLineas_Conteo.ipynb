{
 "cells": [
  {
   "cell_type": "markdown",
   "metadata": {
    "collapsed": true
   },
   "source": [
    "# Clustering: Clustering Conteo de Lineas por Cluster"
   ]
  },
  {
   "cell_type": "code",
   "execution_count": null,
   "metadata": {
    "collapsed": true
   },
   "outputs": [],
   "source": [
    "import pandas as pd\n",
    "import numpy as np\n",
    "\n",
    "import datetime as dt\n",
    "import matplotlib.dates as mdates\n",
    "\n",
    "from pyspark import SparkContext, SQLContext\n",
    "from pyspark.ml.feature import VectorAssembler\n",
    "\n",
    "from pyspark.sql import SQLContext\n",
    "from pyspark.sql.types import *\n",
    "\n",
    "\n",
    "sqlCtx = SQLContext(sc)"
   ]
  },
  {
   "cell_type": "markdown",
   "metadata": {},
   "source": [
    "## 1. Carga de Datos"
   ]
  },
  {
   "cell_type": "code",
   "execution_count": 2,
   "metadata": {
    "collapsed": true
   },
   "outputs": [],
   "source": [
    "#Carga de los datos para los dias Laborables\n",
    "df_count_lineas_laborables=sqlContext.sql(\"select linea,sum(n_viajeros) as n_viajeros from emt_smartbus.viajeros_tramos_master_nooutliers where festivo=0 and \\\n",
    "                                  (dia_semana='L' or dia_semana='M' or dia_semana='X' or dia_semana='J' or dia_semana='V') group by linea\")\n",
    "\n",
    "df_count_lineas_festivos=sqlContext.sql(\"select linea,sum(n_viajeros) as n_viajeros from emt_smartbus.viajeros_tramos_master_nooutliers where \\\n",
    "                                  (dia_semana='S' or dia_semana='D' or festivo=1) group by linea\")\n",
    "\n",
    "df_clusters_laborables=sqlContext.sql(\"select * from emt_smartbus.clustering1_laborables\")\n",
    "\n",
    "df_clusters_festivos=sqlContext.sql(\"select * from emt_smartbus.clustering1_festivos\")\n"
   ]
  },
  {
   "cell_type": "code",
   "execution_count": 14,
   "metadata": {
    "collapsed": false
   },
   "outputs": [],
   "source": [
    "df_count_laborables=df_count_lineas_laborables.join(df_clusters_laborables, 'linea', 'inner')\n",
    "df_count_festivos=df_count_lineas_festivos.join(df_clusters_festivos, 'linea', 'inner')"
   ]
  },
  {
   "cell_type": "code",
   "execution_count": 13,
   "metadata": {
    "collapsed": false
   },
   "outputs": [
    {
     "name": "stdout",
     "output_type": "stream",
     "text": [
      "+-----+----------+-------+\n",
      "|linea|n_viajeros|cluster|\n",
      "+-----+----------+-------+\n",
      "|  148|   4495600|      5|\n",
      "|  516|    260139|      2|\n",
      "|   31|  10272868|      0|\n",
      "|   85|   5758030|      0|\n",
      "|  451|    415965|      0|\n",
      "|  137|   3235104|      0|\n",
      "|   65|   3394930|      0|\n",
      "|  799|    292858|      3|\n",
      "|  481|   1415681|      0|\n",
      "|   53|   5918146|      0|\n",
      "|  133|   6777454|      0|\n",
      "|  513|    286269|      2|\n",
      "|   78|   2967742|      0|\n",
      "|  155|   3971575|      0|\n",
      "|  108|   1066894|      5|\n",
      "|   34|  13539214|      0|\n",
      "|  101|    429832|      1|\n",
      "|  115|   5067876|      0|\n",
      "|  756|      9791|      1|\n",
      "|  126|   3569171|      0|\n",
      "+-----+----------+-------+\n",
      "only showing top 20 rows\n",
      "\n"
     ]
    }
   ],
   "source": [
    "df_count_laborables.show()"
   ]
  },
  {
   "cell_type": "code",
   "execution_count": 29,
   "metadata": {
    "collapsed": true
   },
   "outputs": [],
   "source": [
    "df_count_laborables.registerTempTable(\"count_laborables\")\n",
    "df_count_festivos.registerTempTable(\"count_festivos\")"
   ]
  },
  {
   "cell_type": "code",
   "execution_count": 31,
   "metadata": {
    "collapsed": false
   },
   "outputs": [],
   "source": [
    "df_result_laborables = sqlContext.sql('select linea,sum(n_viajeros) as nviajeros,cluster from count_laborables group by linea,cluster order by nviajeros desc')\n",
    "df_result_festivos = sqlContext.sql('select linea,sum(n_viajeros) as nviajeros,cluster from count_festivos group by linea,cluster order by nviajeros desc')"
   ]
  },
  {
   "cell_type": "code",
   "execution_count": 32,
   "metadata": {
    "collapsed": false
   },
   "outputs": [],
   "source": [
    "df_result_laborables.registerTempTable(\"count_result_laborables\")\n",
    "df_result_festivos.registerTempTable(\"count_result_festivos\")"
   ]
  },
  {
   "cell_type": "code",
   "execution_count": 48,
   "metadata": {
    "collapsed": true
   },
   "outputs": [],
   "source": [
    "df_rest_laborables = sqlContext.sql('select linea,nviajeros,cluster from count_result_laborables where cluster=5 order by nviajeros desc')\n",
    "df_rest_festivos = sqlContext.sql('select linea,nviajeros,cluster from count_result_festivos where cluster=5 order by nviajeros desc')"
   ]
  },
  {
   "cell_type": "code",
   "execution_count": 49,
   "metadata": {
    "collapsed": false
   },
   "outputs": [
    {
     "name": "stdout",
     "output_type": "stream",
     "text": [
      "+-----+---------+-------+\n",
      "|linea|nviajeros|cluster|\n",
      "+-----+---------+-------+\n",
      "|   32|  8274177|      5|\n",
      "|   10|  8201793|      5|\n",
      "|  124|  7049076|      5|\n",
      "|  143|  5769879|      5|\n",
      "|  118|  5411725|      5|\n",
      "|   66|  5392717|      5|\n",
      "|    3|  5358157|      5|\n",
      "|   54|  4765118|      5|\n",
      "|  102|  4760698|      5|\n",
      "|   26|  4562003|      5|\n",
      "|  148|  4495600|      5|\n",
      "|   24|  4457072|      5|\n",
      "|  103|  3834784|      5|\n",
      "|   57|  3801867|      5|\n",
      "|  142|  3693242|      5|\n",
      "|  141|  3690372|      5|\n",
      "|  136|  3294908|      5|\n",
      "|  149|  3225749|      5|\n",
      "|  130|  3218993|      5|\n",
      "|  119|  3157189|      5|\n",
      "+-----+---------+-------+\n",
      "only showing top 20 rows\n",
      "\n"
     ]
    }
   ],
   "source": [
    "df_rest_laborables.show()"
   ]
  },
  {
   "cell_type": "code",
   "execution_count": 50,
   "metadata": {
    "collapsed": false
   },
   "outputs": [
    {
     "name": "stdout",
     "output_type": "stream",
     "text": [
      "+-----+---------+-------+\n",
      "|linea|nviajeros|cluster|\n",
      "+-----+---------+-------+\n",
      "|  110|   187359|      5|\n",
      "|  702|    94932|      5|\n",
      "|  172|    61361|      5|\n",
      "|  799|    46493|      5|\n",
      "|  704|    32176|      5|\n",
      "|  728|    19804|      5|\n",
      "|  742|     1891|      5|\n",
      "|  732|      776|      5|\n",
      "+-----+---------+-------+\n",
      "\n"
     ]
    }
   ],
   "source": [
    "df_rest_festivos.show()"
   ]
  },
  {
   "cell_type": "code",
   "execution_count": null,
   "metadata": {
    "collapsed": true
   },
   "outputs": [],
   "source": []
  }
 ],
 "metadata": {
  "kernelspec": {
   "display_name": "Spark-2.0.2 - Python 2.7 [COMMON]",
   "language": "python",
   "name": "spark2.0_py2.7"
  },
  "language_info": {
   "codemirror_mode": {
    "name": "ipython",
    "version": 2
   },
   "file_extension": ".py",
   "mimetype": "text/x-python",
   "name": "python",
   "nbconvert_exporter": "python",
   "pygments_lexer": "ipython2",
   "version": "2.7.11"
  }
 },
 "nbformat": 4,
 "nbformat_minor": 0
}
