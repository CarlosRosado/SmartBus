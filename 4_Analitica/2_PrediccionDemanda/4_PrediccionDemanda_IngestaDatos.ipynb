{
 "cells": [
  {
   "cell_type": "markdown",
   "metadata": {},
   "source": [
    "# Ingesta Predicción de la Demanda"
   ]
  },
  {
   "cell_type": "markdown",
   "metadata": {},
   "source": [
    "## 1. Carga de los Dataset"
   ]
  },
  {
   "cell_type": "code",
   "execution_count": 45,
   "metadata": {
    "collapsed": true
   },
   "outputs": [],
   "source": [
    "import pandas as pd\n",
    "import os, glob, sys\n",
    "\n",
    "from pyspark import SparkContext, SQLContext\n",
    "from pyspark.ml.feature import VectorAssembler\n",
    "\n",
    "from pyspark.sql import SQLContext\n",
    "from pyspark.sql.types import *\n",
    "\n",
    "\n",
    "sqlCtx = SQLContext(sc)"
   ]
  },
  {
   "cell_type": "code",
   "execution_count": 46,
   "metadata": {
    "collapsed": false
   },
   "outputs": [],
   "source": [
    "def readFiles(path):\n",
    "    files = [f for f in glob.glob(path + '/*') if os.path.isfile(f)]\n",
    "    dfEnd = pd.DataFrame([])\n",
    "    for f in files:\n",
    "        df = pd.read_csv(f, sep = ';')\n",
    "        dfEnd = pd.concat([dfEnd, df])  \n",
    "    return dfEnd"
   ]
  },
  {
   "cell_type": "code",
   "execution_count": 47,
   "metadata": {
    "collapsed": false
   },
   "outputs": [],
   "source": [
    "# Ficheros Training\n",
    "line = '1'\n",
    "dfTraining = readFiles('./DatosPrediccion/training/')\n",
    "dfTest = readFiles('./DatosPrediccion/test/')"
   ]
  },
  {
   "cell_type": "code",
   "execution_count": 48,
   "metadata": {
    "collapsed": false
   },
   "outputs": [
    {
     "data": {
      "text/html": [
       "<div>\n",
       "<style>\n",
       "    .dataframe thead tr:only-child th {\n",
       "        text-align: right;\n",
       "    }\n",
       "\n",
       "    .dataframe thead th {\n",
       "        text-align: left;\n",
       "    }\n",
       "\n",
       "    .dataframe tbody tr th {\n",
       "        vertical-align: top;\n",
       "    }\n",
       "</style>\n",
       "<table border=\"1\" class=\"dataframe\">\n",
       "  <thead>\n",
       "    <tr style=\"text-align: right;\">\n",
       "      <th></th>\n",
       "      <th>linea</th>\n",
       "      <th>test_ids_dias</th>\n",
       "      <th>test_npasajeros</th>\n",
       "      <th>test_pred_npasajeros</th>\n",
       "      <th>tramo</th>\n",
       "    </tr>\n",
       "  </thead>\n",
       "  <tbody>\n",
       "    <tr>\n",
       "      <th>0</th>\n",
       "      <td>1</td>\n",
       "      <td>526</td>\n",
       "      <td>8</td>\n",
       "      <td>2.993681</td>\n",
       "      <td>1</td>\n",
       "    </tr>\n",
       "    <tr>\n",
       "      <th>1</th>\n",
       "      <td>1</td>\n",
       "      <td>527</td>\n",
       "      <td>9</td>\n",
       "      <td>3.365918</td>\n",
       "      <td>1</td>\n",
       "    </tr>\n",
       "    <tr>\n",
       "      <th>2</th>\n",
       "      <td>1</td>\n",
       "      <td>528</td>\n",
       "      <td>7</td>\n",
       "      <td>5.062501</td>\n",
       "      <td>1</td>\n",
       "    </tr>\n",
       "    <tr>\n",
       "      <th>3</th>\n",
       "      <td>1</td>\n",
       "      <td>529</td>\n",
       "      <td>1</td>\n",
       "      <td>1.821090</td>\n",
       "      <td>1</td>\n",
       "    </tr>\n",
       "    <tr>\n",
       "      <th>4</th>\n",
       "      <td>1</td>\n",
       "      <td>530</td>\n",
       "      <td>1</td>\n",
       "      <td>0.809551</td>\n",
       "      <td>1</td>\n",
       "    </tr>\n",
       "  </tbody>\n",
       "</table>\n",
       "</div>"
      ],
      "text/plain": [
       "   linea  test_ids_dias  test_npasajeros  test_pred_npasajeros  tramo\n",
       "0      1            526                8              2.993681      1\n",
       "1      1            527                9              3.365918      1\n",
       "2      1            528                7              5.062501      1\n",
       "3      1            529                1              1.821090      1\n",
       "4      1            530                1              0.809551      1"
      ]
     },
     "execution_count": 48,
     "metadata": {},
     "output_type": "execute_result"
    }
   ],
   "source": [
    "dfTest.head()"
   ]
  },
  {
   "cell_type": "markdown",
   "metadata": {},
   "source": [
    "## 2. Ingesta de los datos en Hive"
   ]
  },
  {
   "cell_type": "code",
   "execution_count": 49,
   "metadata": {
    "collapsed": true
   },
   "outputs": [],
   "source": [
    "dfTraining = sqlCtx.createDataFrame(dfTraining)\n",
    "dfTest = sqlCtx.createDataFrame(dfTest)"
   ]
  },
  {
   "cell_type": "code",
   "execution_count": 50,
   "metadata": {
    "collapsed": true
   },
   "outputs": [],
   "source": [
    "from pyspark.sql import HiveContext\n",
    "hiveCtx = HiveContext(sc)"
   ]
  },
  {
   "cell_type": "code",
   "execution_count": 51,
   "metadata": {
    "collapsed": true
   },
   "outputs": [],
   "source": [
    "dfTraining.write.format(\"orc\").mode(\"overwrite\").saveAsTable(\"emt_smartbus.prediccion_demanda_training\")\n",
    "dfTest.write.format(\"orc\").mode(\"overwrite\").saveAsTable(\"emt_smartbus.prediccion_demanda_test\")"
   ]
  }
 ],
 "metadata": {
  "kernelspec": {
   "display_name": "Spark-2.0.2 - Python 2.7 [COMMON]",
   "language": "python",
   "name": "spark2.0_py2.7"
  },
  "language_info": {
   "codemirror_mode": {
    "name": "ipython",
    "version": 2
   },
   "file_extension": ".py",
   "mimetype": "text/x-python",
   "name": "python",
   "nbconvert_exporter": "python",
   "pygments_lexer": "ipython2",
   "version": "2.7.11"
  }
 },
 "nbformat": 4,
 "nbformat_minor": 0
}
