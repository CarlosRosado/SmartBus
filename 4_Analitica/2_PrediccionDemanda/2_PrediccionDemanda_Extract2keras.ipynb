{
 "cells": [
  {
   "cell_type": "markdown",
   "metadata": {
    "collapsed": true
   },
   "source": [
    "# Predicción de la Demanda: Extracción de Datos para Keras"
   ]
  },
  {
   "cell_type": "code",
   "execution_count": null,
   "metadata": {
    "collapsed": true
   },
   "outputs": [],
   "source": [
    "import pandas as pd\n",
    "import numpy as np\n",
    "\n",
    "from pyspark import SparkContext, SQLContext\n",
    "\n",
    "from pyspark.sql import SQLContext\n",
    "from pyspark.sql.types import *\n",
    "\n",
    "sqlCtx = SQLContext(sc)"
   ]
  },
  {
   "cell_type": "markdown",
   "metadata": {},
   "source": [
    "## 1. Carga de los Datos"
   ]
  },
  {
   "cell_type": "code",
   "execution_count": 64,
   "metadata": {
    "collapsed": false
   },
   "outputs": [],
   "source": [
    "#Carga de los datos para los dias Laborables\n",
    "df = sqlContext.sql(\"select fecha,mes,dia,anho,dia_semana,festivo,max(intensidad_evento) as intensidad_evento,sum(n_viajeros) as nviajeros,max(ocupacion_trafico) as ocupacion_trafico,max(inten_lluvia_tramo) as inten_lluvia from emt_smartbus.viajeros_tramos_master_nooutliers \\\n",
    "where linea=1 and fecha<>20160229 and tramo>12 and tramo<=18 GROUP BY fecha,mes,anho,dia,dia_semana,festivo ORDER BY fecha\")"
   ]
  },
  {
   "cell_type": "code",
   "execution_count": 65,
   "metadata": {
    "collapsed": false
   },
   "outputs": [
    {
     "name": "stdout",
     "output_type": "stream",
     "text": [
      "+--------+---+---+----+----------+-------+-----------------+---------+------------------+------------------+\n",
      "|   fecha|mes|dia|anho|dia_semana|festivo|intensidad_evento|nviajeros| ocupacion_trafico|      inten_lluvia|\n",
      "+--------+---+---+----+----------+-------+-----------------+---------+------------------+------------------+\n",
      "|20150101|  1|  1|2015|         J|      1|             null|     2151|              null|               0.0|\n",
      "|20150102|  1|  2|2015|         V|      0|             null|     7266|              null|               0.0|\n",
      "|20150103|  1|  3|2015|         S|      0|             null|     6168|              null|               0.0|\n",
      "|20150104|  1|  4|2015|         D|      0|             null|     4644|              null|               0.0|\n",
      "|20150105|  1|  5|2015|         L|      0|             null|     6491|              null|               0.0|\n",
      "|20150106|  1|  6|2015|         M|      1|             null|     2755|              null|               0.0|\n",
      "|20150107|  1|  7|2015|         X|      0|             null|     7968|              null|               0.0|\n",
      "|20150108|  1|  8|2015|         J|      0|             null|     8189|              null|               0.0|\n",
      "|20150109|  1|  9|2015|         V|      0|             null|     8179|              null|               0.0|\n",
      "|20150110|  1| 10|2015|         S|      0|             null|     5417|              null|               0.0|\n",
      "|20150111|  1| 11|2015|         D|      0|             null|     3813|              null|               0.0|\n",
      "|20150112|  1| 12|2015|         L|      0|             null|     8086|              78.2|               0.0|\n",
      "|20150113|  1| 13|2015|         M|      0|             null|     8353| 83.41379310344827|               0.0|\n",
      "|20150114|  1| 14|2015|         X|      0|             null|     7708|103.12785388127854|               0.0|\n",
      "|20150115|  1| 15|2015|         J|      0|             null|     7901|108.41414141414141|1.4000000000000035|\n",
      "|20150116|  1| 16|2015|         V|      0|             null|     8382|111.15037593984962|               4.4|\n",
      "|20150117|  1| 17|2015|         S|      0|             null|     5042| 87.53703703703704|               0.0|\n",
      "|20150118|  1| 18|2015|         D|      0|             null|     2518|              93.5|               4.5|\n",
      "|20150119|  1| 19|2015|         L|      0|             null|     7436|              98.4|               1.3|\n",
      "|20150120|  1| 20|2015|         M|      0|             null|     7706|             170.0|               0.0|\n",
      "+--------+---+---+----+----------+-------+-----------------+---------+------------------+------------------+\n",
      "only showing top 20 rows\n",
      "\n"
     ]
    }
   ],
   "source": [
    "df.show()"
   ]
  },
  {
   "cell_type": "code",
   "execution_count": 66,
   "metadata": {
    "collapsed": true
   },
   "outputs": [],
   "source": [
    "df = df.toPandas()"
   ]
  },
  {
   "cell_type": "markdown",
   "metadata": {},
   "source": [
    "## 2. Procesado de los Datos"
   ]
  },
  {
   "cell_type": "code",
   "execution_count": 67,
   "metadata": {
    "collapsed": true
   },
   "outputs": [],
   "source": [
    "df=df.fillna(0)"
   ]
  },
  {
   "cell_type": "code",
   "execution_count": 68,
   "metadata": {
    "collapsed": true
   },
   "outputs": [],
   "source": [
    "df['fecha'] = df['fecha'].apply(lambda x: pd.to_datetime(str(x), format='%Y%m%d'))"
   ]
  },
  {
   "cell_type": "code",
   "execution_count": 69,
   "metadata": {
    "collapsed": true
   },
   "outputs": [],
   "source": [
    "# Funcion para separar los dias en las semanas del mes\n",
    "def weeks(row):\n",
    "    # Inicio del mes\n",
    "    if row['dia'] <= 7:\n",
    "        val = 0\n",
    "    # Mediados del mes\n",
    "    elif (row['dia']>7) & (row['dia']<=21):\n",
    "        val = 1\n",
    "    # Fin de mes\n",
    "    else:\n",
    "        val = 2\n",
    "\n",
    "    return val"
   ]
  },
  {
   "cell_type": "code",
   "execution_count": 70,
   "metadata": {
    "collapsed": true
   },
   "outputs": [],
   "source": [
    "df['semana_mes'] = df.apply (lambda row: weeks (row),axis=1)"
   ]
  },
  {
   "cell_type": "code",
   "execution_count": 71,
   "metadata": {
    "collapsed": false
   },
   "outputs": [],
   "source": [
    "df['day_of_week'] = df['fecha'].dt.dayofweek"
   ]
  },
  {
   "cell_type": "code",
   "execution_count": 72,
   "metadata": {
    "collapsed": false
   },
   "outputs": [
    {
     "data": {
      "text/html": [
       "<div>\n",
       "<style>\n",
       "    .dataframe thead tr:only-child th {\n",
       "        text-align: right;\n",
       "    }\n",
       "\n",
       "    .dataframe thead th {\n",
       "        text-align: left;\n",
       "    }\n",
       "\n",
       "    .dataframe tbody tr th {\n",
       "        vertical-align: top;\n",
       "    }\n",
       "</style>\n",
       "<table border=\"1\" class=\"dataframe\">\n",
       "  <thead>\n",
       "    <tr style=\"text-align: right;\">\n",
       "      <th></th>\n",
       "      <th>fecha</th>\n",
       "      <th>mes</th>\n",
       "      <th>dia</th>\n",
       "      <th>anho</th>\n",
       "      <th>dia_semana</th>\n",
       "      <th>festivo</th>\n",
       "      <th>intensidad_evento</th>\n",
       "      <th>nviajeros</th>\n",
       "      <th>ocupacion_trafico</th>\n",
       "      <th>inten_lluvia</th>\n",
       "      <th>semana_mes</th>\n",
       "      <th>day_of_week</th>\n",
       "    </tr>\n",
       "  </thead>\n",
       "  <tbody>\n",
       "    <tr>\n",
       "      <th>0</th>\n",
       "      <td>2015-01-01</td>\n",
       "      <td>1</td>\n",
       "      <td>1</td>\n",
       "      <td>2015</td>\n",
       "      <td>J</td>\n",
       "      <td>1</td>\n",
       "      <td>0</td>\n",
       "      <td>2151</td>\n",
       "      <td>0.0</td>\n",
       "      <td>0.0</td>\n",
       "      <td>0</td>\n",
       "      <td>3</td>\n",
       "    </tr>\n",
       "    <tr>\n",
       "      <th>1</th>\n",
       "      <td>2015-01-02</td>\n",
       "      <td>1</td>\n",
       "      <td>2</td>\n",
       "      <td>2015</td>\n",
       "      <td>V</td>\n",
       "      <td>0</td>\n",
       "      <td>0</td>\n",
       "      <td>7266</td>\n",
       "      <td>0.0</td>\n",
       "      <td>0.0</td>\n",
       "      <td>0</td>\n",
       "      <td>4</td>\n",
       "    </tr>\n",
       "    <tr>\n",
       "      <th>2</th>\n",
       "      <td>2015-01-03</td>\n",
       "      <td>1</td>\n",
       "      <td>3</td>\n",
       "      <td>2015</td>\n",
       "      <td>S</td>\n",
       "      <td>0</td>\n",
       "      <td>0</td>\n",
       "      <td>6168</td>\n",
       "      <td>0.0</td>\n",
       "      <td>0.0</td>\n",
       "      <td>0</td>\n",
       "      <td>5</td>\n",
       "    </tr>\n",
       "    <tr>\n",
       "      <th>3</th>\n",
       "      <td>2015-01-04</td>\n",
       "      <td>1</td>\n",
       "      <td>4</td>\n",
       "      <td>2015</td>\n",
       "      <td>D</td>\n",
       "      <td>0</td>\n",
       "      <td>0</td>\n",
       "      <td>4644</td>\n",
       "      <td>0.0</td>\n",
       "      <td>0.0</td>\n",
       "      <td>0</td>\n",
       "      <td>6</td>\n",
       "    </tr>\n",
       "    <tr>\n",
       "      <th>4</th>\n",
       "      <td>2015-01-05</td>\n",
       "      <td>1</td>\n",
       "      <td>5</td>\n",
       "      <td>2015</td>\n",
       "      <td>L</td>\n",
       "      <td>0</td>\n",
       "      <td>0</td>\n",
       "      <td>6491</td>\n",
       "      <td>0.0</td>\n",
       "      <td>0.0</td>\n",
       "      <td>0</td>\n",
       "      <td>0</td>\n",
       "    </tr>\n",
       "  </tbody>\n",
       "</table>\n",
       "</div>"
      ],
      "text/plain": [
       "       fecha  mes  dia  anho dia_semana  festivo  intensidad_evento  \\\n",
       "0 2015-01-01    1    1  2015          J        1                  0   \n",
       "1 2015-01-02    1    2  2015          V        0                  0   \n",
       "2 2015-01-03    1    3  2015          S        0                  0   \n",
       "3 2015-01-04    1    4  2015          D        0                  0   \n",
       "4 2015-01-05    1    5  2015          L        0                  0   \n",
       "\n",
       "   nviajeros  ocupacion_trafico  inten_lluvia  semana_mes  day_of_week  \n",
       "0       2151                0.0           0.0           0            3  \n",
       "1       7266                0.0           0.0           0            4  \n",
       "2       6168                0.0           0.0           0            5  \n",
       "3       4644                0.0           0.0           0            6  \n",
       "4       6491                0.0           0.0           0            0  "
      ]
     },
     "execution_count": 72,
     "metadata": {},
     "output_type": "execute_result"
    }
   ],
   "source": [
    "df.head()"
   ]
  },
  {
   "cell_type": "code",
   "execution_count": 73,
   "metadata": {
    "collapsed": true
   },
   "outputs": [],
   "source": [
    "df_filter= df[['fecha','mes','festivo','nviajeros','intensidad_evento','inten_lluvia','ocupacion_trafico','semana_mes','day_of_week']]"
   ]
  },
  {
   "cell_type": "markdown",
   "metadata": {},
   "source": [
    "## 3. Conversión a CSV"
   ]
  },
  {
   "cell_type": "code",
   "execution_count": 74,
   "metadata": {
    "collapsed": true
   },
   "outputs": [],
   "source": [
    "df_filter.to_csv('data_clean_new1.csv',sep=';',index=False)"
   ]
  },
  {
   "cell_type": "code",
   "execution_count": null,
   "metadata": {
    "collapsed": true
   },
   "outputs": [],
   "source": []
  }
 ],
 "metadata": {
  "kernelspec": {
   "display_name": "Spark-2.0.2 - Python 2.7 [COMMON]",
   "language": "python",
   "name": "spark2.0_py2.7"
  },
  "language_info": {
   "codemirror_mode": {
    "name": "ipython",
    "version": 2
   },
   "file_extension": ".py",
   "mimetype": "text/x-python",
   "name": "python",
   "nbconvert_exporter": "python",
   "pygments_lexer": "ipython2",
   "version": "2.7.11"
  }
 },
 "nbformat": 4,
 "nbformat_minor": 0
}
